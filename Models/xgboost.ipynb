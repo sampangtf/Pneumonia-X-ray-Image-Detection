{
  "cells": [
    {
      "cell_type": "markdown",
      "metadata": {},
      "source": [
        "# XGBoost"
      ]
    },
    {
      "cell_type": "markdown",
      "metadata": {},
      "source": [
        "### Google Colab Implementation"
      ]
    },
    {
      "cell_type": "code",
      "execution_count": 1,
      "metadata": {
        "colab": {
          "base_uri": "https://localhost:8080/"
        },
        "id": "r_mPVO3uQiVa",
        "outputId": "6534cc80-7e30-4073-bd3a-1cecacd5dbcb"
      },
      "outputs": [
        {
          "name": "stdout",
          "output_type": "stream",
          "text": [
            "Mounted at /content/drive\n"
          ]
        }
      ],
      "source": [
        "from google.colab import drive\n",
        "drive.mount('/content/drive',force_remount=True)"
      ]
    },
    {
      "cell_type": "code",
      "execution_count": 2,
      "metadata": {
        "id": "AGeWY1IeQn90"
      },
      "outputs": [],
      "source": [
        "import os\n",
        "# os.chdir('drive/MyDrive/Colab Notebooks/project')\n",
        "os.chdir('drive/MyDrive/project')\n",
        "# os.chdir('drive/MyDrive/Colab Notebooks/project')"
      ]
    },
    {
      "cell_type": "markdown",
      "metadata": {},
      "source": [
        "### Set Up"
      ]
    },
    {
      "cell_type": "code",
      "execution_count": 3,
      "metadata": {
        "id": "ZTAFTEd1QRiv"
      },
      "outputs": [],
      "source": [
        "import os\n",
        "import torch\n",
        "import matplotlib.pyplot as plt\n",
        "import glob\n",
        "import xgboost as xgb\n",
        "import numpy as np\n",
        "\n",
        "from function import get_mean_and_std, imageloader\n",
        "\n",
        "# from xgb_function import get_mean_and_std, imageloader, get_xgb_transforms, xgb_model\n",
        "\n",
        "%load_ext autoreload\n",
        "%autoreload 2"
      ]
    },
    {
      "cell_type": "code",
      "execution_count": 4,
      "metadata": {
        "colab": {
          "base_uri": "https://localhost:8080/"
        },
        "id": "1s4KMDKap-uq",
        "outputId": "c70a2d4b-63e2-4163-a074-accadff96843"
      },
      "outputs": [
        {
          "name": "stdout",
          "output_type": "stream",
          "text": [
            "GPU available: True\n"
          ]
        }
      ],
      "source": [
        "is_cuda = True\n",
        "is_cuda = is_cuda and torch.cuda.is_available()\n",
        "print(\"GPU available:\", is_cuda)"
      ]
    },
    {
      "cell_type": "code",
      "execution_count": 5,
      "metadata": {
        "id": "3ZRrH3peQUmy"
      },
      "outputs": [],
      "source": [
        "data_base_path = 'data/' \n",
        "data_train_path ='data/train/' \n",
        "data_test_path = 'data/test/'\n",
        "data_val_path = 'data/val/'\n",
        "model_base_path = 'model_checkpoints/'\n"
      ]
    },
    {
      "cell_type": "code",
      "execution_count": 6,
      "metadata": {
        "colab": {
          "base_uri": "https://localhost:8080/"
        },
        "id": "pzSq5r97SZJP",
        "outputId": "368566ce-e96e-4bc2-dc5e-730e044d97b5"
      },
      "outputs": [
        {
          "name": "stdout",
          "output_type": "stream",
          "text": [
            "['.DS_Store', '__MACOSX', 'test', 'train', 'val']\n",
            "['.DS_Store', 'PNEUMONIA', 'NORMAL']\n",
            "['.DS_Store', 'PNEUMONIA', 'NORMAL']\n",
            "['.DS_Store', 'PNEUMONIA', 'NORMAL']\n"
          ]
        }
      ],
      "source": [
        "print(os.listdir(data_base_path))\n",
        "print(os.listdir(data_train_path))\n",
        "print(os.listdir(data_test_path))\n",
        "print(os.listdir(data_val_path))\n"
      ]
    },
    {
      "cell_type": "markdown",
      "metadata": {
        "id": "8KEZZA5XUdLU"
      },
      "source": [
        "### Image Transformation for XGB"
      ]
    },
    {
      "cell_type": "code",
      "execution_count": 7,
      "metadata": {
        "id": "QWVZUX_MU-Lx"
      },
      "outputs": [],
      "source": [
        "import numpy as np\n",
        "import torch\n",
        "import torch.nn as nn\n",
        "from torch.nn.modules.pooling import MaxPool2d\n",
        "from torch.utils.data import DataLoader, Dataset\n",
        "import torch.utils\n",
        "import torchvision\n",
        "import torchvision.transforms as transforms\n",
        "from IPython.display import Image\n",
        "from PIL import Image"
      ]
    },
    {
      "cell_type": "code",
      "execution_count": 8,
      "metadata": {
        "id": "DTCHzJUhUgVx"
      },
      "outputs": [],
      "source": [
        "def get_xgb_transforms(input_size, pixel_mean, pixel_std):\n",
        "    return transforms.Compose([\n",
        "        transforms.Resize(input_size),\n",
        "        transforms.ToTensor(),\n",
        "        transforms.Normalize(pixel_mean, pixel_std),\n",
        "        transforms.Lambda(lambda x: torch.flatten(x))\n",
        "    ])"
      ]
    },
    {
      "cell_type": "markdown",
      "metadata": {
        "id": "qOzWQRHQFcbc"
      },
      "source": [
        "### Calculating Mean and Standard Deviation from the Dataset and Loading Dataset"
      ]
    },
    {
      "cell_type": "code",
      "execution_count": 9,
      "metadata": {
        "id": "9okC-AwPFcbd"
      },
      "outputs": [],
      "source": [
        "# dataset_mean, dataset_std = get_mean_and_std(data_base_path)\n",
        "dataset_mean = 0.48738179\n",
        "dataset_std = 0.2454088\n"
      ]
    },
    {
      "cell_type": "code",
      "execution_count": 10,
      "metadata": {
        "colab": {
          "base_uri": "https://localhost:8080/"
        },
        "id": "5euC2EVWFcbd",
        "outputId": "834534d7-a251-4a82-8163-c4c05ff407f3"
      },
      "outputs": [
        {
          "name": "stdout",
          "output_type": "stream",
          "text": [
            "Dataset mean = 0.48738179, standard deviation = 0.2454088\n"
          ]
        }
      ],
      "source": [
        "print(f'Dataset mean = {dataset_mean}, standard deviation = {dataset_std}')"
      ]
    },
    {
      "cell_type": "code",
      "execution_count": 11,
      "metadata": {
        "id": "Thx16WRMSdjA"
      },
      "outputs": [],
      "source": [
        "input_size = (64, 64)\n",
        "train_dataset = imageloader(data_train_path, \n",
        "                            transform = get_xgb_transforms(input_size, dataset_mean, dataset_std))\n",
        "test_dataset = imageloader(data_test_path, \n",
        "                            transform = get_xgb_transforms(input_size, dataset_mean, dataset_std))"
      ]
    },
    {
      "cell_type": "code",
      "execution_count": 12,
      "metadata": {
        "colab": {
          "base_uri": "https://localhost:8080/"
        },
        "id": "TUwbBwMpWzdF",
        "outputId": "7dedb38e-4b86-40c0-c7fc-4491f544144e"
      },
      "outputs": [
        {
          "name": "stdout",
          "output_type": "stream",
          "text": [
            "number of training images: 5216\n",
            "number of training images: 624\n"
          ]
        }
      ],
      "source": [
        "print(f\"number of training images: {len(train_dataset)}\")\n",
        "print(f\"number of training images: {len(test_dataset)}\")"
      ]
    },
    {
      "cell_type": "code",
      "execution_count": 13,
      "metadata": {
        "colab": {
          "base_uri": "https://localhost:8080/"
        },
        "id": "y7ENWXqDWzyV",
        "outputId": "becea3a2-f98c-4551-e3ea-669edeca5a95"
      },
      "outputs": [
        {
          "name": "stdout",
          "output_type": "stream",
          "text": [
            "Classes: {'PNEUMONIA': 0, 'NORMAL': 1}\n"
          ]
        }
      ],
      "source": [
        "print(f\"Classes: {train_dataset.class_dict}\")"
      ]
    },
    {
      "cell_type": "code",
      "execution_count": 14,
      "metadata": {
        "colab": {
          "base_uri": "https://localhost:8080/"
        },
        "id": "lFd8JT45TL7z",
        "outputId": "3130b769-a9cb-4563-df9f-01e05ebe7753"
      },
      "outputs": [
        {
          "name": "stdout",
          "output_type": "stream",
          "text": [
            "data type of sample_image : <class 'torch.Tensor'>\n",
            "sample label : 0\n"
          ]
        }
      ],
      "source": [
        "sample_image, sample_label = next(iter(train_dataset))\n",
        "print(\"data type of sample_image : {}\".format(type(sample_image)))\n",
        "print(\"sample label : {}\".format(sample_label))"
      ]
    },
    {
      "cell_type": "markdown",
      "metadata": {
        "id": "paa_xW7ToYa8"
      },
      "source": [
        "### Extracting Data into Array"
      ]
    },
    {
      "cell_type": "code",
      "execution_count": null,
      "metadata": {
        "colab": {
          "base_uri": "https://localhost:8080/"
        },
        "id": "_gOXSG_vZTOm",
        "outputId": "75fb33f7-a541-45f3-95a0-c54078fd00c4"
      },
      "outputs": [
        {
          "name": "stdout",
          "output_type": "stream",
          "text": [
            "(5216, 4096) (5216,)\n",
            "(624, 4096) (624,)\n"
          ]
        }
      ],
      "source": [
        "#Transforming the dataset into Numpy Array\n",
        "x_train, y_train = [], []\n",
        "x_test, y_test = [], []\n",
        "\n",
        "for _, (img, label) in enumerate(train_dataset):\n",
        "  x_train.append(img.numpy())\n",
        "  y_train.append(label)\n",
        "x_train = np.array(x_train)\n",
        "y_train = np.array(y_train)\n",
        "\n",
        "for _, (img, label) in enumerate(test_dataset):\n",
        "  x_test.append(img.numpy())\n",
        "  y_test.append(label)\n",
        "x_test = np.array(x_test)\n",
        "y_test = np.array(y_test)\n",
        "\n",
        "print(x_train.shape, y_train.shape)\n",
        "print(x_test.shape, y_test.shape)"
      ]
    },
    {
      "cell_type": "code",
      "execution_count": null,
      "metadata": {
        "id": "82HuQEP2m3UV"
      },
      "outputs": [],
      "source": [
        "#exporting the data array into csv\n",
        "np.savetxt(\"x_train.csv\", x_train, delimiter=\",\")\n",
        "np.savetxt(\"y_train.csv\", y_train, delimiter=\",\")\n",
        "np.savetxt(\"x_test.csv\", x_test, delimiter=\",\")\n",
        "np.savetxt(\"y_test.csv\", y_test, delimiter=\",\")"
      ]
    },
    {
      "cell_type": "markdown",
      "metadata": {
        "id": "MmI2n0XFobXx"
      },
      "source": [
        "### Loading Data from CSV (for reproducibility)"
      ]
    },
    {
      "cell_type": "code",
      "execution_count": 16,
      "metadata": {
        "colab": {
          "base_uri": "https://localhost:8080/"
        },
        "id": "d8jMVWaSgoGF",
        "outputId": "e2f6f334-bd25-4646-afc1-6d9943951240"
      },
      "outputs": [
        {
          "name": "stdout",
          "output_type": "stream",
          "text": [
            " \u001b[0m\u001b[01;34mcv_proj3_code\u001b[0m/                       \u001b[01;34mmodel_checkpoints\u001b[0m/   x_test.csv\n",
            " \u001b[01;34mdata\u001b[0m/                                \u001b[01;34moutput\u001b[0m/              x_train.csv\n",
            " function.py                          \u001b[01;34mproject_code\u001b[0m/        y_test.csv\n",
            "'ML_CNN (AlexNet: GoogleNet).ipynb'   \u001b[01;34m__pycache__\u001b[0m/         y_train.csv\n",
            " ML_CNN.ipynb                         xgboost.ipynb\n"
          ]
        }
      ],
      "source": [
        "ls"
      ]
    },
    {
      "cell_type": "code",
      "execution_count": 17,
      "metadata": {
        "id": "AwQtlnXioWQJ"
      },
      "outputs": [],
      "source": [
        "from numpy import genfromtxt\n",
        "x_train = genfromtxt('x_train.csv', delimiter=',')\n",
        "y_train = genfromtxt('y_train.csv', delimiter=',')\n",
        "x_test = genfromtxt('x_test.csv', delimiter=',')\n",
        "y_test = genfromtxt('y_test.csv', delimiter=',')"
      ]
    },
    {
      "cell_type": "markdown",
      "metadata": {
        "id": "3R7PFMF0UL3n"
      },
      "source": [
        "### XGBoost Model"
      ]
    },
    {
      "cell_type": "code",
      "execution_count": 18,
      "metadata": {
        "id": "4ez0JsYeShhI"
      },
      "outputs": [],
      "source": [
        "from sklearn import metrics\n",
        "from sklearn.model_selection import cross_val_score, StratifiedKFold, RandomizedSearchCV\n",
        "import xgboost\n",
        "\n",
        "# class xgboost_trainer(x_train, y_train, x_test, y_test):\n",
        "class xgb_model():\n",
        "    def __init__(self, \n",
        "                 x_train, \n",
        "                 y_train,\n",
        "                 x_test, \n",
        "                 y_test, \n",
        "                 lr = 0.01,\n",
        "                 n_estimators=250,\n",
        "                 colsample_bytree=1,\n",
        "                 subsample=0.8,\n",
        "                 reg_lambda=1,\n",
        "                 gamma=0,\n",
        "                 max_depth=5,\n",
        "                 is_cuda=False, \n",
        "                 random_seed=1):\n",
        "\n",
        "        if is_cuda:\n",
        "            self.model = xgboost.XGBClassifier(n_estimators=n_estimators, \n",
        "                                          random_state=random_seed, \n",
        "                                          tree_method = \"gpu_hist\", \n",
        "                                          eval_metric=[\"error\", \"logloss\"],\n",
        "                                          lr = lr,\n",
        "                                          colsample_bytree=colsample_bytree,\n",
        "                                          subsample=subsample,\n",
        "                                          reg_lambda=reg_lambda,\n",
        "                                          gamma=gamma,\n",
        "                                          max_depth=max_depth\n",
        "                                          )\n",
        "        else:\n",
        "            self.model = xgboost.XGBClassifier(n_estimators=n_estimators, \n",
        "                                          random_state=random_seed, \n",
        "                                          eval_metric=[\"error\", \"auc\"],\n",
        "                                          lr = lr,\n",
        "                                          colsample_bytree=colsample_bytree,\n",
        "                                          subsample=subsample,\n",
        "                                          reg_lambda=reg_lambda,\n",
        "                                          gamma=gamma,\n",
        "                                          )\n",
        "        self.x_train, self.y_train, self.x_test, self.y_test = x_train, y_train, x_test, y_test\n",
        "        \n",
        "        self.best_model = None\n",
        "        self.train_loss_list = []\n",
        "        self.validation_loss_list = []\n",
        "        self.train_accuracy_list = []\n",
        "        self.validation_accuracy_list = []\n",
        "        self.is_cuda = is_cuda\n",
        "    def fit_cv(self):\n",
        "        cv_results = cross_val_score(self.model, self.x_train, self.y_train, \n",
        "                      cv = 2, scoring='accuracy', n_jobs = -1, verbose = 1)\n",
        "        self.model.fit(self.x_train, self.y_train, verbose=True)\n",
        "        print(cv_results)\n",
        "        print(self.model)\n",
        "\n",
        "        print('\\n')\n",
        "        self.evaluate(self.model)\n",
        "        return cv_results, self.model\n",
        "\n",
        "    def fit(self):\n",
        "        eval_dataset = [(self.x_train, self.y_train), (self.x_test, self.y_test)]\n",
        "        eval_metric = ['error', 'logloss']\n",
        "\n",
        "        self.model.fit(self.x_train, \n",
        "                       self.y_train,\n",
        "                       eval_set=eval_dataset, \n",
        "                       eval_metric=eval_metric, \n",
        "                       verbose=False)\n",
        "\n",
        "        print('\\n')\n",
        "        self.evaluate(self.model)\n",
        "\n",
        "        eval_res = self.model.evals_result()\n",
        "        self.train_loss_list = eval_res['validation_0']['logloss']\n",
        "        self.validation_loss_list = eval_res['validation_1']['logloss']\n",
        "        self.train_accuracy_list = list(map(lambda x:1-x, eval_res['validation_0']['error']))\n",
        "        self.validation_accuracy_list = list(map(lambda x:1-x, eval_res['validation_1']['error']))\n",
        "\n",
        "    def evaluate(self, model):\n",
        "        predicted_y_train = model.predict(x_train)\n",
        "        predicted_y_test = model.predict(x_test)\n",
        "        \n",
        "        print('Train Accuracy: ', metrics.accuracy_score(self.y_train, predicted_y_train))\n",
        "        print('Test Accuraccy: ', metrics.accuracy_score(self.y_test, predicted_y_test))\n",
        "        print('\\nConfusion Matrix (Testing Dataset):')\n",
        "        print(metrics.confusion_matrix(self.y_test,predicted_y_test))\n",
        "        print('\\nClassification Report (Testing Dataset):')\n",
        "        print(metrics.classification_report(self.y_test,predicted_y_test))\n",
        " \n",
        "    def get_best_model(self, num_folds=5, n_iter=50):\n",
        "        param_grid = {\n",
        "          \"learning_rate\": [0.1, 0.05, 0.01],\n",
        "          \"colsample_bytree\": [0.76, 0.85, 1.0],\n",
        "          \"subsample\": [0.6, 0.8, 1.0],\n",
        "          \"max_depth\": [2, 3, 4, 5],\n",
        "          \"n_estimators\": [50, 100, 200, 300, 400],\n",
        "          \"reg_lambda\": [1, 1.5, 2, 2.5, 3, 3.5, 4, 5],\n",
        "          \"gamma\": [0, 0.3, 0.6, 0.9],\n",
        "        }\n",
        "\n",
        "        scoring = {\n",
        "          'Loss': 'neg_log_loss', \n",
        "          'Accuracy': metrics.make_scorer(metrics.accuracy_score)\n",
        "        }\n",
        "\n",
        "        # create the Kfold object\n",
        "        kfold = StratifiedKFold(n_splits=num_folds)\n",
        "        \n",
        "        grid = RandomizedSearchCV(\n",
        "          estimator=self.model, \n",
        "          param_distributions=param_grid,\n",
        "          cv=kfold,\n",
        "          scoring=scoring,\n",
        "          n_jobs=-1,\n",
        "          n_iter=n_iter,\n",
        "          refit=\"Loss\",\n",
        "        ) \n",
        "        self.best_model = grid.fit(self.x_train, self.y_train)\n",
        "        print(f'Lowest Loss: {-self.best_model.best_score_}')\n",
        "        print(f'Best model Parameters: {self.best_model.best_params_}')\n",
        "\n",
        "    def fit_best_model(self):\n",
        "        best_parameters = self.best_model.best_params_\n",
        "        if self.is_cuda:\n",
        "            self.model = xgboost.XGBClassifier(tree_method = \"gpu_hist\", \n",
        "                                          eval_metric=[\"error\", \"logloss\"],\n",
        "                                          colsample_bytree=best_parameters['colsample_bytree'],\n",
        "                                          gamma=best_parameters['gamma'],\n",
        "                                          lr=best_parameters['learning_rate'],\n",
        "                                          max_depth=best_parameters['max_depth'],\n",
        "                                          n_estimators=best_parameters['n_estimators'],\n",
        "                                          reg_lambda=best_parameters['reg_lambda'],\n",
        "                                          subsample=best_parameters['subsample']\n",
        "                                          )\n",
        "        else:\n",
        "            self.model = xgboost.XGBClassifier(eval_metric=[\"error\", \"auc\"],\n",
        "                                          colsample_bytree=best_parameters['colsample_bytree'],\n",
        "                                          gamma=best_parameters['gamma'],\n",
        "                                          lr=best_parameters['learning_rate'],\n",
        "                                          max_depth=best_parameters['max_depth'],\n",
        "                                          n_estimators=best_parameters['n_estimators'],\n",
        "                                          reg_lambda=best_parameters['reg_lambda'],\n",
        "                                          subsample=best_parameters['subsample']\n",
        "                                          )\n",
        "        self.fit()\n",
        "\n",
        "    def plot_loss(self):\n",
        "        plt.figure()\n",
        "        count_epoch = range(len(self.train_loss_list))\n",
        "        \n",
        "        plt.plot(count_epoch, self.train_loss_list, '-r', label = 'training')\n",
        "        plt.plot(count_epoch, self.validation_loss_list, '-g', label = 'validation')\n",
        "        plt.title(\"Classification Loss against Epochs\")\n",
        "        plt.legend()\n",
        "        plt.ylabel(\"Loss\")\n",
        "        plt.xlabel(\"Epochs\")\n",
        "        plt.show()\n",
        "    \n",
        "    def plot_accuracy(self):\n",
        "        plt.figure()\n",
        "        count_epoch = range(len(self.train_accuracy_list))\n",
        "\n",
        "        plt.plot(count_epoch, self.train_accuracy_list, '-r', label = 'training')\n",
        "        plt.plot(count_epoch, self.validation_accuracy_list, '-g', label = 'validation')\n",
        "        plt.title(\"Accuracy against Epochs\")\n",
        "        plt.legend()\n",
        "        plt.ylabel(\"Accuracy\")\n",
        "        plt.xlabel(\"Epochs\")\n",
        "        plt.show()\n"
      ]
    },
    {
      "cell_type": "markdown",
      "metadata": {
        "id": "eFSNj10cSPDd"
      },
      "source": [
        "## Fine-Tuning the XGBoost Automatically"
      ]
    },
    {
      "cell_type": "code",
      "execution_count": 19,
      "metadata": {
        "id": "KQF8NS8XeWA2"
      },
      "outputs": [],
      "source": [
        "xgb = xgb_model(x_train, y_train, x_test, y_test, is_cuda=is_cuda)"
      ]
    },
    {
      "cell_type": "markdown",
      "metadata": {
        "id": "RQRWf4YSctGj"
      },
      "source": [
        "#### Initial Run using Default Hyparemeters"
      ]
    },
    {
      "cell_type": "code",
      "execution_count": null,
      "metadata": {
        "colab": {
          "base_uri": "https://localhost:8080/",
          "height": 903
        },
        "id": "BNn13GrnXakX",
        "outputId": "e3543e53-5a03-4f40-8d70-3bc4ec9b82f4"
      },
      "outputs": [
        {
          "name": "stdout",
          "output_type": "stream",
          "text": [
            "\n",
            "\n",
            "Train Accuracy:  1.0\n",
            "Test Accuraccy:  0.7387820512820513\n",
            "\n",
            "Confusion Matrix (Testing Dataset):\n",
            "[[387   3]\n",
            " [160  74]]\n",
            "\n",
            "Classification Report (Testing Dataset):\n",
            "              precision    recall  f1-score   support\n",
            "\n",
            "         0.0       0.71      0.99      0.83       390\n",
            "         1.0       0.96      0.32      0.48       234\n",
            "\n",
            "    accuracy                           0.74       624\n",
            "   macro avg       0.83      0.65      0.65       624\n",
            "weighted avg       0.80      0.74      0.69       624\n",
            "\n"
          ]
        },
        {
          "data": {
            "image/png": "[encoded data removed]",
            "text/plain": [
              "<Figure size 432x288 with 1 Axes>"
            ]
          },
          "metadata": {
            "needs_background": "light"
          },
          "output_type": "display_data"
        },
        {
          "data": {
            "image/png": "[encoded data removed]",
            "text/plain": [
              "<Figure size 432x288 with 1 Axes>"
            ]
          },
          "metadata": {
            "needs_background": "light"
          },
          "output_type": "display_data"
        }
      ],
      "source": [
        "# cv_results = xgb.fit_cv()[0]\n",
        "xgb.fit()\n",
        "xgb.plot_loss()\n",
        "xgb.plot_accuracy()"
      ]
    },
    {
      "cell_type": "markdown",
      "metadata": {
        "id": "eDfkb9vmcouC"
      },
      "source": [
        "#### 1st Hyparmeter Random GridSearch"
      ]
    },
    {
      "cell_type": "code",
      "execution_count": null,
      "metadata": {
        "colab": {
          "base_uri": "https://localhost:8080/"
        },
        "id": "p7E7H05o4Zww",
        "outputId": "365d1f87-6717-4d92-894c-2b8a23ff5613"
      },
      "outputs": [
        {
          "name": "stderr",
          "output_type": "stream",
          "text": [
            "/usr/local/lib/python3.7/dist-packages/joblib/externals/loky/process_executor.py:705: UserWarning: A worker stopped while some jobs were given to the executor. This can be caused by a too short worker timeout or by a memory leak.\n",
            "  \"timeout or by a memory leak.\", UserWarning\n"
          ]
        },
        {
          "name": "stdout",
          "output_type": "stream",
          "text": [
            "Lowest Loss: -0.10774829154744658\n",
            "Best model Parameters: {'subsample': 0.6, 'reg_lambda': 1, 'n_estimators': 400, 'max_depth': 5, 'learning_rate': 0.05, 'gamma': 0, 'colsample_bytree': 1.0}\n",
            "Best Model: {'subsample': 0.6, 'reg_lambda': 1, 'n_estimators': 400, 'max_depth': 5, 'learning_rate': 0.05, 'gamma': 0, 'colsample_bytree': 1.0}\n",
            "\n",
            "\n",
            "Train Accuracy:  1.0\n",
            "Test Accuraccy:  0.7451923076923077\n",
            "\n",
            "Confusion Matrix (Testing Dataset):\n",
            "[[387   3]\n",
            " [156  78]]\n",
            "\n",
            "Classification Report (Testing Dataset):\n",
            "              precision    recall  f1-score   support\n",
            "\n",
            "         0.0       0.71      0.99      0.83       390\n",
            "         1.0       0.96      0.33      0.50       234\n",
            "\n",
            "    accuracy                           0.75       624\n",
            "   macro avg       0.84      0.66      0.66       624\n",
            "weighted avg       0.81      0.75      0.70       624\n",
            "\n"
          ]
        }
      ],
      "source": [
        "xgb.get_best_model()\n",
        "print(f'Best Model: {xgb.best_model.best_params_}')\n",
        "xgb.fit_best_model()"
      ]
    },
    {
      "cell_type": "code",
      "execution_count": null,
      "metadata": {
        "colab": {
          "base_uri": "https://localhost:8080/",
          "height": 573
        },
        "id": "0RYSdDMRNQW-",
        "outputId": "b34a4f55-6bef-47c5-b8b8-7dd6123659a5"
      },
      "outputs": [
        {
          "data": {
            "image/png": "[encoded data removed]",
            "text/plain": [
              "<Figure size 432x288 with 1 Axes>"
            ]
          },
          "metadata": {
            "needs_background": "light"
          },
          "output_type": "display_data"
        },
        {
          "data": {
            "image/png": "[encoded data removed]",
            "text/plain": [
              "<Figure size 432x288 with 1 Axes>"
            ]
          },
          "metadata": {
            "needs_background": "light"
          },
          "output_type": "display_data"
        }
      ],
      "source": [
        "xgb.plot_loss()\n",
        "xgb.plot_accuracy()"
      ]
    },
    {
      "cell_type": "markdown",
      "metadata": {
        "id": "3OB8JTUNcydJ"
      },
      "source": [
        "#### 2nd Hyparmeter Random GridSearch"
      ]
    },
    {
      "cell_type": "code",
      "execution_count": 20,
      "metadata": {
        "colab": {
          "base_uri": "https://localhost:8080/",
          "height": 1000
        },
        "id": "BFprNmSWQBX8",
        "outputId": "e32eb8fe-19a8-4919-be01-e80983e8f8bb"
      },
      "outputs": [
        {
          "name": "stderr",
          "output_type": "stream",
          "text": [
            "/usr/local/lib/python3.7/dist-packages/joblib/externals/loky/process_executor.py:705: UserWarning: A worker stopped while some jobs were given to the executor. This can be caused by a too short worker timeout or by a memory leak.\n",
            "  \"timeout or by a memory leak.\", UserWarning\n"
          ]
        },
        {
          "name": "stdout",
          "output_type": "stream",
          "text": [
            "Lowest Loss: 0.09415024301665677\n",
            "Best model Parameters: {'subsample': 0.6, 'reg_lambda': 1.5, 'n_estimators': 400, 'max_depth': 4, 'learning_rate': 0.05, 'gamma': 0.6, 'colsample_bytree': 0.76}\n",
            "\n",
            "\n",
            "Best Model: {'subsample': 0.6, 'reg_lambda': 1.5, 'n_estimators': 400, 'max_depth': 4, 'learning_rate': 0.05, 'gamma': 0.6, 'colsample_bytree': 0.76}\n",
            "\n",
            "\n",
            "Train Accuracy:  1.0\n",
            "Test Accuraccy:  0.7355769230769231\n",
            "\n",
            "Confusion Matrix (Testing Dataset):\n",
            "[[388   2]\n",
            " [163  71]]\n",
            "\n",
            "Classification Report (Testing Dataset):\n",
            "              precision    recall  f1-score   support\n",
            "\n",
            "         0.0       0.70      0.99      0.82       390\n",
            "         1.0       0.97      0.30      0.46       234\n",
            "\n",
            "    accuracy                           0.74       624\n",
            "   macro avg       0.84      0.65      0.64       624\n",
            "weighted avg       0.80      0.74      0.69       624\n",
            "\n"
          ]
        },
        {
          "data": {
            "image/png": "[encoded data removed]",
            "text/plain": [
              "<Figure size 432x288 with 1 Axes>"
            ]
          },
          "metadata": {
            "needs_background": "light"
          },
          "output_type": "display_data"
        },
        {
          "data": {
            "image/png": "[encoded data removed]",
            "text/plain": [
              "<Figure size 432x288 with 1 Axes>"
            ]
          },
          "metadata": {
            "needs_background": "light"
          },
          "output_type": "display_data"
        }
      ],
      "source": [
        "xgb.get_best_model(num_folds=3, n_iter=100)\n",
        "print('\\n')\n",
        "print(f'Best Model: {xgb.best_model.best_params_}')\n",
        "\n",
        "xgb.fit_best_model()\n",
        "xgb.plot_loss()\n",
        "xgb.plot_accuracy()"
      ]
    }
  ],
  "metadata": {
    "accelerator": "GPU",
    "colab": {
      "collapsed_sections": [
        "8KEZZA5XUdLU",
        "qOzWQRHQFcbc",
        "paa_xW7ToYa8",
        "3R7PFMF0UL3n"
      ],
      "name": "xgboost.ipynb",
      "provenance": []
    },
    "kernelspec": {
      "display_name": "Python 3",
      "name": "python3"
    },
    "language_info": {
      "name": "python"
    }
  },
  "nbformat": 4,
  "nbformat_minor": 0
}
